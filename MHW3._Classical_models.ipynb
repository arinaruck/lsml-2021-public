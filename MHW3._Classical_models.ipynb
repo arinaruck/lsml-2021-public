{
 "cells": [
  {
   "cell_type": "markdown",
   "metadata": {
    "collapsed": true
   },
   "source": [
    "# Мини задание 3\n",
    "\n",
    "Продолжаем работать с задачкой на Kaggle про предсказание клика на рекламу - https://www.kaggle.com/c/avito-context-ad-clicks\n",
    "\n",
    "В этот раз нужно уже полноценно решить поставленную задачу.\n",
    "\n",
    "**1. [+5 баллов]** Из всех имеющихся данных необходимо составить датасет из **минимум 8 логических признаков**. Под логическим признаком имеется в виду то, что например кодирование категориального признака или текста в виде OheHot\\BoW не считается за кучу признаков - конкретный текст считается за 1 признак, категориальный признак считается за 1 признак.\n",
    "\n",
    "Всю работу по обработке данных и сборке финального датасета необходимо провести с помощью **спарка**.\n",
    "Финальный датасет должен быть закодирован в **формате Vowpal Wabbit**.\n",
    "\n",
    "**Важно** Следите за тем, чтобы исходное количество объектов не изменилось. При неаккуратной работе с join в sql вы можете начать терять какие-то записи, что плохо. Как минимум это означает, что вы не сможете собрать такие же признаки для тестовой выборки, которую предлагают в задаче.\n",
    "\n",
    "**Важно** Обратите внимание, что в задаче стоит вопрос именно про контекстуальную рекламу, а не про всю существующую.\n",
    "\n",
    "**2. [+5 баллов]** Разделите ваш датасет на обучающую и тестовую выборку. Обучите **логистическую регрессию** с помощью **Vowpal Wabbit**. \n",
    "\n",
    "Сделайте бинарные предсказания и посчитайте Accuracy, Presicion и Recall на тестовой выборке. \n",
    "Сделайне предсказания вероятностей и посчитайте LogLoss. (Эта же метрика используется в Kaggle для оценивания вашего решения).\n",
    "\n",
    "Посчитайте ответы для тестовой выборки, которая предлагается в задании и отправьте в Kaggle (само соревнование уже давно закончилось, но вы все еще можете присылать туда свои решения и система будет вас оценивать). В решении приложите скриншот того, какой скор вам выдал Kaggle.\n",
    "\n",
    "**3. [+ up to 5 дополнительных баллов]** Несмотря на то, что мы просим вас считать качество (и на тестовой и в Kaggle), оно никак **не будет влиять** на основные баллы. Основная цель этого задания состоит в том, чтобы вы потренировались в End-to-end работе с ML задачей на больших данных - от сбора датасета до получения модели и ее оценки. \n",
    "\n",
    "Однако, топ 5 студентов (в каждой группе отдельно) с самым больших качеством (по Kaggle) получат до 5 дополнительных баллов в зависимости от полученой метрики качества (за самое лучшее качество +5, за второе место +4 и так далее).\n",
    "\n",
    "**Важно** В сдаваемом ноубуке должны присутствовать такие элементы\n",
    "* Код на Spark, который собирает датасет\n",
    "* Команды запуска VW для его обучения\n",
    "* Подсчитанные метрики качества (и соответственно код, который их считает)\n",
    "* Скриншот из Kaggle, на котором видно вашу посылку и подсчитанную метрику качества"
   ]
  },
  {
   "cell_type": "code",
   "execution_count": 11,
   "metadata": {},
   "outputs": [
    {
     "name": "stdout",
     "output_type": "stream",
     "text": [
      "/Users/arinaruck/Desktop/cs/lsml/lsml-2021-public\n",
      "/Users/arinaruck/Desktop/cs/lsml/lsml-2021-public\r\n"
     ]
    }
   ],
   "source": [
    "%cd /Users/arinaruck/Desktop/cs/lsml/lsml-2021-public/\n",
    "\n",
    "!pwd"
   ]
  },
  {
   "cell_type": "code",
   "execution_count": 12,
   "metadata": {},
   "outputs": [
    {
     "name": "stdout",
     "output_type": "stream",
     "text": [
      "[\n",
      "  {\n",
      "    \"cloudName\": \"AzureCloud\",\n",
      "    \"homeTenantId\": \"fa34e92c-e581-439a-b6ae-b41b61270513\",\n",
      "    \"id\": \"dfeaef04-2e5c-4480-8ebf-301863ed526a\",\n",
      "    \"isDefault\": true,\n",
      "    \"managedByTenants\": [],\n",
      "    \"name\": \"Microsoft Azure Sponsorship 2\",\n",
      "    \"state\": \"Disabled\",\n",
      "    \"tenantId\": \"fa34e92c-e581-439a-b6ae-b41b61270513\",\n",
      "    \"user\": {\n",
      "      \"name\": \"arina.ruck@gmail.com\",\n",
      "      \"type\": \"user\"\n",
      "    }\n",
      "  },\n",
      "  {\n",
      "    \"cloudName\": \"AzureCloud\",\n",
      "    \"homeTenantId\": \"fa34e92c-e581-439a-b6ae-b41b61270513\",\n",
      "    \"id\": \"3750c13c-7871-4812-9fd5-94fb4ce86681\",\n",
      "    \"isDefault\": false,\n",
      "    \"managedByTenants\": [],\n",
      "    \"name\": \"Lab1 21 Rak Arina Sergeevna\",\n",
      "    \"state\": \"Enabled\",\n",
      "    \"tenantId\": \"fa34e92c-e581-439a-b6ae-b41b61270513\",\n",
      "    \"user\": {\n",
      "      \"name\": \"arina.ruck@gmail.com\",\n",
      "      \"type\": \"user\"\n",
      "    }\n",
      "  }\n",
      "]\n"
     ]
    }
   ],
   "source": [
    "%%bash\n",
    "\n",
    "az login -u arina.ruck@gmail.com -p $(cat password-file.txt)\n",
    "rm -r mhw3\n",
    "mkdir -p mhw3\n",
    "\n",
    "cd mhw3/"
   ]
  },
  {
   "cell_type": "code",
   "execution_count": 13,
   "metadata": {},
   "outputs": [
    {
     "name": "stdout",
     "output_type": "stream",
     "text": [
      "Overwriting common.tf\n"
     ]
    }
   ],
   "source": [
    "%%writefile common.tf\n",
    "\n",
    "provider \"azurerm\" {\n",
    "  subscription_id = \"3750c13c-7871-4812-9fd5-94fb4ce86681\"\n",
    "  features {}\n",
    "}\n",
    "\n",
    "\n",
    "resource \"azurerm_resource_group\" \"lsml_rg\" {\n",
    "  name = \"lsml-resource-group\"\n",
    "  location = \"westus\"\n",
    "}\n",
    "\n",
    "resource \"azurerm_virtual_network\" \"lsml_vn\" {\n",
    "  name = \"lsml-vitrual-network\"\n",
    "  resource_group_name = azurerm_resource_group.lsml_rg.name\n",
    "  location = azurerm_resource_group.lsml_rg.location\n",
    "  address_space = [\"10.0.0.0/16\"]   # Пул адресов внутри сети\n",
    "}\n",
    "\n",
    "resource \"azurerm_storage_account\" \"lsml_sa\" {\n",
    "  name                     = \"arinkalsmlstorage\"\n",
    "  resource_group_name      = azurerm_resource_group.lsml_rg.name\n",
    "  location                 = azurerm_resource_group.lsml_rg.location\n",
    "  account_tier             = \"Standard\"\n",
    "  account_replication_type = \"LRS\"\n",
    "}"
   ]
  },
  {
   "cell_type": "code",
   "execution_count": 14,
   "metadata": {},
   "outputs": [
    {
     "name": "stdout",
     "output_type": "stream",
     "text": [
      "Overwriting spark.tf\n"
     ]
    }
   ],
   "source": [
    "%%writefile spark.tf\n",
    "\n",
    "resource \"azurerm_storage_container\" \"spark_sc\" {\n",
    "  name                  = \"hw2-spark-container\"\n",
    "  storage_account_name  = azurerm_storage_account.lsml_sa.name\n",
    "  container_access_type = \"private\"\n",
    "}\n",
    "\n",
    "resource \"azurerm_hdinsight_spark_cluster\" \"spark_cluster\" {\n",
    "  name                = \"hw2-sparkcluster\"\n",
    "  resource_group_name = azurerm_resource_group.lsml_rg.name\n",
    "  location            = azurerm_resource_group.lsml_rg.location\n",
    "  cluster_version     = \"4.0\"\n",
    "  tier                = \"Standard\"\n",
    "\n",
    "  component_version {\n",
    "    spark = \"2.4\"\n",
    "  }\n",
    "\n",
    "  gateway {\n",
    "    enabled  = true\n",
    "    username = \"azureuser\"\n",
    "    password = \"Password123!\"\n",
    "  }\n",
    "\n",
    "  storage_account {\n",
    "    storage_container_id = azurerm_storage_container.spark_sc.id\n",
    "    storage_account_key  = azurerm_storage_account.lsml_sa.primary_access_key\n",
    "    is_default           = true\n",
    "  }\n",
    "\n",
    "  roles {\n",
    "    head_node {\n",
    "      vm_size  = \"A6\"  # 2 cpu 14 ram\n",
    "      username = \"azureuser\"\n",
    "      password = \"Password123!\"\n",
    "    }\n",
    "\n",
    "    worker_node {\n",
    "      vm_size               = \"Standard_D12_V2\" # 4 cpu 28 ram\n",
    "      username              = \"azureuser\"\n",
    "      password              = \"Password123!\"\n",
    "      target_instance_count = 1\n",
    "    }\n",
    "\n",
    "    zookeeper_node {\n",
    "      vm_size  = \"Medium\"\n",
    "      username = \"azureuser\"\n",
    "      password = \"Password123!\"\n",
    "    }\n",
    "  }\n",
    "}\n",
    "\n",
    "\n",
    "output \"ssh_endpoint\" {\n",
    "    value = azurerm_hdinsight_spark_cluster.spark_cluster.ssh_endpoint\n",
    "}\n",
    "\n",
    "output \"https_endpoint\" {\n",
    "    value = azurerm_hdinsight_spark_cluster.spark_cluster.https_endpoint\n",
    "}\n",
    "\n",
    "output \"jupyter_endpoint\" {\n",
    "    value = \"${azurerm_hdinsight_spark_cluster.spark_cluster.https_endpoint}/jupyter\"\n",
    "}"
   ]
  },
  {
   "cell_type": "code",
   "execution_count": 15,
   "metadata": {},
   "outputs": [
    {
     "name": "stdout",
     "output_type": "stream",
     "text": [
      "\n",
      "\u001b[0m\u001b[1mInitializing the backend...\u001b[0m\n",
      "\n",
      "\u001b[0m\u001b[1mInitializing provider plugins...\u001b[0m\n",
      "- Reusing previous version of hashicorp/azurerm from the dependency lock file\n",
      "- Installing hashicorp/azurerm v2.45.1...\n",
      "- Installed hashicorp/azurerm v2.45.1 (signed by HashiCorp)\n",
      "\n",
      "\u001b[0m\u001b[1m\u001b[32mTerraform has been successfully initialized!\u001b[0m\u001b[32m\u001b[0m\n",
      "\u001b[0m\u001b[32m\n",
      "You may now begin working with Terraform. Try running \"terraform plan\" to see\n",
      "any changes that are required for your infrastructure. All Terraform commands\n",
      "should now work.\n",
      "\n",
      "If you ever set or change modules or backend configuration for Terraform,\n",
      "rerun this command to reinitialize your working directory. If you forget, other\n",
      "commands will detect it and remind you to do so if necessary.\u001b[0m\n"
     ]
    }
   ],
   "source": [
    "! terraform init"
   ]
  },
  {
   "cell_type": "code",
   "execution_count": 16,
   "metadata": {},
   "outputs": [
    {
     "name": "stdout",
     "output_type": "stream",
     "text": [
      "\u001b[0m\u001b[1mazurerm_resource_group.lsml_rg: Importing from ID \"/subscriptions/3750c13c-7871-4812-9fd5-94fb4ce86681/resourceGroups/lsml-resource-group\"...\u001b[0m\n",
      "\u001b[0m\u001b[1m\u001b[32mazurerm_resource_group.lsml_rg: Import prepared!\u001b[0m\n",
      "\u001b[0m\u001b[32m  Prepared azurerm_resource_group for import\u001b[0m\n",
      "\u001b[31m\n",
      "\u001b[1m\u001b[31mError: \u001b[0m\u001b[0m\u001b[1mResource already managed by Terraform\u001b[0m\n",
      "\n",
      "\u001b[0mTerraform is already managing a remote object for\n",
      "azurerm_resource_group.lsml_rg. To import to this address you must first\n",
      "remove the existing object from the state.\n",
      "\u001b[0m\u001b[0m\n",
      "\u001b[0m\u001b[1mazurerm_virtual_network.lsml_vn: Importing from ID \"/subscriptions/3750c13c-7871-4812-9fd5-94fb4ce86681/resourceGroups/lsml-resource-group/providers/Microsoft.Network/virtualNetworks/lsml-vitrual-network\"...\u001b[0m\n",
      "\u001b[0m\u001b[1m\u001b[32mazurerm_virtual_network.lsml_vn: Import prepared!\u001b[0m\n",
      "\u001b[0m\u001b[32m  Prepared azurerm_virtual_network for import\u001b[0m\n",
      "\u001b[31m\n",
      "\u001b[1m\u001b[31mError: \u001b[0m\u001b[0m\u001b[1mResource already managed by Terraform\u001b[0m\n",
      "\n",
      "\u001b[0mTerraform is already managing a remote object for\n",
      "azurerm_virtual_network.lsml_vn. To import to this address you must first\n",
      "remove the existing object from the state.\n",
      "\u001b[0m\u001b[0m\n",
      "\u001b[0m\u001b[1mazurerm_storage_account.lsml_sa: Importing from ID \"/subscriptions/3750c13c-7871-4812-9fd5-94fb4ce86681/resourceGroups/lsml-resource-group/providers/Microsoft.Storage/storageAccounts/arinkalsmlstorage\"...\u001b[0m\n",
      "\u001b[0m\u001b[1m\u001b[32mazurerm_storage_account.lsml_sa: Import prepared!\u001b[0m\n",
      "\u001b[0m\u001b[32m  Prepared azurerm_storage_account for import\u001b[0m\n",
      "\u001b[31m\n",
      "\u001b[1m\u001b[31mError: \u001b[0m\u001b[0m\u001b[1mResource already managed by Terraform\u001b[0m\n",
      "\n",
      "\u001b[0mTerraform is already managing a remote object for\n",
      "azurerm_storage_account.lsml_sa. To import to this address you must first\n",
      "remove the existing object from the state.\n",
      "\u001b[0m\u001b[0m\n",
      "\u001b[0m\u001b[1mazurerm_storage_container.spark_sc: Importing from ID \"https://arinkalsmlstorage.blob.core.windows.net/hw2-spark-container\"...\u001b[0m\n",
      "\u001b[0m\u001b[1m\u001b[32mazurerm_storage_container.spark_sc: Import prepared!\u001b[0m\n",
      "\u001b[0m\u001b[32m  Prepared azurerm_storage_container for import\u001b[0m\n",
      "\u001b[31m\n",
      "\u001b[1m\u001b[31mError: \u001b[0m\u001b[0m\u001b[1mResource already managed by Terraform\u001b[0m\n",
      "\n",
      "\u001b[0mTerraform is already managing a remote object for\n",
      "azurerm_storage_container.spark_sc. To import to this address you must first\n",
      "remove the existing object from the state.\n",
      "\u001b[0m\u001b[0m\n"
     ]
    }
   ],
   "source": [
    "!terraform import azurerm_resource_group.lsml_rg /subscriptions/3750c13c-7871-4812-9fd5-94fb4ce86681/resourceGroups/lsml-resource-group\n",
    "!terraform import azurerm_virtual_network.lsml_vn /subscriptions/3750c13c-7871-4812-9fd5-94fb4ce86681/resourceGroups/lsml-resource-group/providers/Microsoft.Network/virtualNetworks/lsml-vitrual-network\n",
    "!terraform import azurerm_storage_account.lsml_sa /subscriptions/3750c13c-7871-4812-9fd5-94fb4ce86681/resourceGroups/lsml-resource-group/providers/Microsoft.Storage/storageAccounts/arinkalsmlstorage\n",
    "!terraform import azurerm_storage_container.spark_sc https://arinkalsmlstorage.blob.core.windows.net/hw2-spark-container\n",
    "    "
   ]
  },
  {
   "cell_type": "code",
   "execution_count": 17,
   "metadata": {},
   "outputs": [
    {
     "name": "stdout",
     "output_type": "stream",
     "text": [
      "\u001b[0m\u001b[1mazurerm_resource_group.lsml_rg: Refreshing state... [id=/subscriptions/3750c13c-7871-4812-9fd5-94fb4ce86681/resourceGroups/lsml-resource-group]\u001b[0m\n",
      "\u001b[0m\u001b[1mazurerm_virtual_network.lsml_vn: Refreshing state... [id=/subscriptions/3750c13c-7871-4812-9fd5-94fb4ce86681/resourceGroups/lsml-resource-group/providers/Microsoft.Network/virtualNetworks/lsml-vitrual-network]\u001b[0m\n",
      "\u001b[0m\u001b[1mazurerm_storage_account.lsml_sa: Refreshing state... [id=/subscriptions/3750c13c-7871-4812-9fd5-94fb4ce86681/resourceGroups/lsml-resource-group/providers/Microsoft.Storage/storageAccounts/arinkalsmlstorage]\u001b[0m\n",
      "\u001b[0m\u001b[1mazurerm_storage_container.spark_sc: Refreshing state... [id=https://arinkalsmlstorage.blob.core.windows.net/hw2-spark-container]\u001b[0m\n",
      "\n",
      "An execution plan has been generated and is shown below.\n",
      "Resource actions are indicated with the following symbols:\n",
      "  \u001b[32m+\u001b[0m create\n",
      "\u001b[0m\n",
      "Terraform will perform the following actions:\n",
      "\n",
      "\u001b[1m  # azurerm_hdinsight_spark_cluster.spark_cluster\u001b[0m will be created\u001b[0m\u001b[0m\n",
      "\u001b[0m  \u001b[32m+\u001b[0m\u001b[0m resource \"azurerm_hdinsight_spark_cluster\" \"spark_cluster\" {\n",
      "      \u001b[32m+\u001b[0m \u001b[0m\u001b[1m\u001b[0mcluster_version\u001b[0m\u001b[0m     = \"4.0\"\n",
      "      \u001b[32m+\u001b[0m \u001b[0m\u001b[1m\u001b[0mhttps_endpoint\u001b[0m\u001b[0m      = (known after apply)\n",
      "      \u001b[32m+\u001b[0m \u001b[0m\u001b[1m\u001b[0mid\u001b[0m\u001b[0m                  = (known after apply)\n",
      "      \u001b[32m+\u001b[0m \u001b[0m\u001b[1m\u001b[0mlocation\u001b[0m\u001b[0m            = \"westus\"\n",
      "      \u001b[32m+\u001b[0m \u001b[0m\u001b[1m\u001b[0mname\u001b[0m\u001b[0m                = \"hw2-sparkcluster\"\n",
      "      \u001b[32m+\u001b[0m \u001b[0m\u001b[1m\u001b[0mresource_group_name\u001b[0m\u001b[0m = \"lsml-resource-group\"\n",
      "      \u001b[32m+\u001b[0m \u001b[0m\u001b[1m\u001b[0mssh_endpoint\u001b[0m\u001b[0m        = (known after apply)\n",
      "      \u001b[32m+\u001b[0m \u001b[0m\u001b[1m\u001b[0mtier\u001b[0m\u001b[0m                = \"Standard\"\n",
      "\n",
      "      \u001b[32m+\u001b[0m \u001b[0mcomponent_version {\n",
      "          \u001b[32m+\u001b[0m \u001b[0m\u001b[1m\u001b[0mspark\u001b[0m\u001b[0m = \"2.4\"\n",
      "        }\n",
      "\n",
      "      \u001b[32m+\u001b[0m \u001b[0mgateway {\n",
      "          \u001b[32m+\u001b[0m \u001b[0m\u001b[1m\u001b[0menabled\u001b[0m\u001b[0m  = true\n",
      "          \u001b[32m+\u001b[0m \u001b[0m\u001b[1m\u001b[0mpassword\u001b[0m\u001b[0m = (sensitive value)\n",
      "          \u001b[32m+\u001b[0m \u001b[0m\u001b[1m\u001b[0musername\u001b[0m\u001b[0m = \"azureuser\"\n",
      "        }\n",
      "\n",
      "      \u001b[32m+\u001b[0m \u001b[0mroles {\n",
      "          \u001b[32m+\u001b[0m \u001b[0mhead_node {\n",
      "              \u001b[32m+\u001b[0m \u001b[0m\u001b[1m\u001b[0mpassword\u001b[0m\u001b[0m = (sensitive value)\n",
      "              \u001b[32m+\u001b[0m \u001b[0m\u001b[1m\u001b[0musername\u001b[0m\u001b[0m = \"azureuser\"\n",
      "              \u001b[32m+\u001b[0m \u001b[0m\u001b[1m\u001b[0mvm_size\u001b[0m\u001b[0m  = \"A6\"\n",
      "            }\n",
      "\n",
      "          \u001b[32m+\u001b[0m \u001b[0mworker_node {\n",
      "              \u001b[32m+\u001b[0m \u001b[0m\u001b[1m\u001b[0mmin_instance_count\u001b[0m\u001b[0m    = (known after apply)\n",
      "              \u001b[32m+\u001b[0m \u001b[0m\u001b[1m\u001b[0mpassword\u001b[0m\u001b[0m              = (sensitive value)\n",
      "              \u001b[32m+\u001b[0m \u001b[0m\u001b[1m\u001b[0mtarget_instance_count\u001b[0m\u001b[0m = 1\n",
      "              \u001b[32m+\u001b[0m \u001b[0m\u001b[1m\u001b[0musername\u001b[0m\u001b[0m              = \"azureuser\"\n",
      "              \u001b[32m+\u001b[0m \u001b[0m\u001b[1m\u001b[0mvm_size\u001b[0m\u001b[0m               = \"Standard_D12_V2\"\n",
      "            }\n",
      "\n",
      "          \u001b[32m+\u001b[0m \u001b[0mzookeeper_node {\n",
      "              \u001b[32m+\u001b[0m \u001b[0m\u001b[1m\u001b[0mpassword\u001b[0m\u001b[0m = (sensitive value)\n",
      "              \u001b[32m+\u001b[0m \u001b[0m\u001b[1m\u001b[0musername\u001b[0m\u001b[0m = \"azureuser\"\n",
      "              \u001b[32m+\u001b[0m \u001b[0m\u001b[1m\u001b[0mvm_size\u001b[0m\u001b[0m  = \"Medium\"\n",
      "            }\n",
      "        }\n",
      "\n",
      "      \u001b[32m+\u001b[0m \u001b[0mstorage_account {\n",
      "          \u001b[32m+\u001b[0m \u001b[0m\u001b[1m\u001b[0mis_default\u001b[0m\u001b[0m           = true\n",
      "          \u001b[32m+\u001b[0m \u001b[0m\u001b[1m\u001b[0mstorage_account_key\u001b[0m\u001b[0m  = (sensitive value)\n",
      "          \u001b[32m+\u001b[0m \u001b[0m\u001b[1m\u001b[0mstorage_container_id\u001b[0m\u001b[0m = \"https://arinkalsmlstorage.blob.core.windows.net/hw2-spark-container\"\n",
      "        }\n",
      "    }\n",
      "\n",
      "\u001b[0m\u001b[1mPlan:\u001b[0m 1 to add, 0 to change, 0 to destroy.\u001b[0m\n",
      "\u001b[0m\n",
      "\u001b[1mChanges to Outputs:\u001b[0m\n",
      "  \u001b[33m~\u001b[0m \u001b[0m\u001b[1m\u001b[0mhttps_endpoint\u001b[0m\u001b[0m   = \"hw2-sparkcluster.azurehdinsight.net\" \u001b[33m->\u001b[0m \u001b[0m(known after apply)\n",
      "  \u001b[33m~\u001b[0m \u001b[0m\u001b[1m\u001b[0mjupyter_endpoint\u001b[0m\u001b[0m = \"hw2-sparkcluster.azurehdinsight.net/jupyter\" \u001b[33m->\u001b[0m \u001b[0m(known after apply)\n",
      "  \u001b[33m~\u001b[0m \u001b[0m\u001b[1m\u001b[0mssh_endpoint\u001b[0m\u001b[0m     = \"hw2-sparkcluster-ssh.azurehdinsight.net\" \u001b[33m->\u001b[0m \u001b[0m(known after apply)\u001b[0m\n",
      "\n",
      "\u001b[33m\n",
      "\u001b[1m\u001b[33mWarning: \u001b[0m\u001b[0m\u001b[1m\"gateway.0.enabled\": [DEPRECATED] HDInsight doesn't support disabling gateway anymore\u001b[0m\n",
      "\n",
      "\u001b[0m  on spark.tf line 8, in resource \"azurerm_hdinsight_spark_cluster\" \"spark_cluster\":\n",
      "   8: resource \"azurerm_hdinsight_spark_cluster\" \"spark_cluster\" \u001b[4m{\u001b[0m\n",
      "\u001b[0m\n",
      "\u001b[0m\u001b[0m\n",
      "\u001b[0m\u001b[1mDo you want to perform these actions?\u001b[0m\n",
      "  Terraform will perform the actions described above.\n",
      "  Only 'yes' will be accepted to approve.\n",
      "\n",
      "  \u001b[1mEnter a value:\u001b[0m \u001b[0m\n",
      "\u001b[0m\u001b[1mazurerm_hdinsight_spark_cluster.spark_cluster: Creating...\u001b[0m\u001b[0m\n",
      "\u001b[0m\u001b[1mazurerm_hdinsight_spark_cluster.spark_cluster: Still creating... [10s elapsed]\u001b[0m\u001b[0m\n",
      "\u001b[0m\u001b[1mazurerm_hdinsight_spark_cluster.spark_cluster: Still creating... [20s elapsed]\u001b[0m\u001b[0m\n",
      "\u001b[0m\u001b[1mazurerm_hdinsight_spark_cluster.spark_cluster: Still creating... [30s elapsed]\u001b[0m\u001b[0m\n",
      "\u001b[0m\u001b[1mazurerm_hdinsight_spark_cluster.spark_cluster: Still creating... [40s elapsed]\u001b[0m\u001b[0m\n",
      "\u001b[0m\u001b[1mazurerm_hdinsight_spark_cluster.spark_cluster: Still creating... [50s elapsed]\u001b[0m\u001b[0m\n",
      "\u001b[0m\u001b[1mazurerm_hdinsight_spark_cluster.spark_cluster: Still creating... [1m0s elapsed]\u001b[0m\u001b[0m\n",
      "\u001b[0m\u001b[1mazurerm_hdinsight_spark_cluster.spark_cluster: Still creating... [1m10s elapsed]\u001b[0m\u001b[0m\n",
      "\u001b[0m\u001b[1mazurerm_hdinsight_spark_cluster.spark_cluster: Still creating... [1m20s elapsed]\u001b[0m\u001b[0m\n",
      "\u001b[0m\u001b[1mazurerm_hdinsight_spark_cluster.spark_cluster: Still creating... [1m30s elapsed]\u001b[0m\u001b[0m\n",
      "\u001b[0m\u001b[1mazurerm_hdinsight_spark_cluster.spark_cluster: Still creating... [1m40s elapsed]\u001b[0m\u001b[0m\n",
      "\u001b[0m\u001b[1mazurerm_hdinsight_spark_cluster.spark_cluster: Still creating... [1m50s elapsed]\u001b[0m\u001b[0m\n",
      "\u001b[0m\u001b[1mazurerm_hdinsight_spark_cluster.spark_cluster: Still creating... [2m0s elapsed]\u001b[0m\u001b[0m\n",
      "\u001b[0m\u001b[1mazurerm_hdinsight_spark_cluster.spark_cluster: Still creating... [2m10s elapsed]\u001b[0m\u001b[0m\n",
      "\u001b[0m\u001b[1mazurerm_hdinsight_spark_cluster.spark_cluster: Still creating... [2m20s elapsed]\u001b[0m\u001b[0m\n",
      "\u001b[0m\u001b[1mazurerm_hdinsight_spark_cluster.spark_cluster: Still creating... [2m30s elapsed]\u001b[0m\u001b[0m\n",
      "\u001b[0m\u001b[1mazurerm_hdinsight_spark_cluster.spark_cluster: Still creating... [2m40s elapsed]\u001b[0m\u001b[0m\n",
      "\u001b[0m\u001b[1mazurerm_hdinsight_spark_cluster.spark_cluster: Still creating... [2m50s elapsed]\u001b[0m\u001b[0m\n",
      "\u001b[0m\u001b[1mazurerm_hdinsight_spark_cluster.spark_cluster: Still creating... [3m0s elapsed]\u001b[0m\u001b[0m\n",
      "\u001b[0m\u001b[1mazurerm_hdinsight_spark_cluster.spark_cluster: Still creating... [3m10s elapsed]\u001b[0m\u001b[0m\n",
      "\u001b[0m\u001b[1mazurerm_hdinsight_spark_cluster.spark_cluster: Still creating... [3m20s elapsed]\u001b[0m\u001b[0m\n",
      "\u001b[0m\u001b[1mazurerm_hdinsight_spark_cluster.spark_cluster: Still creating... [3m30s elapsed]\u001b[0m\u001b[0m\n",
      "\u001b[0m\u001b[1mazurerm_hdinsight_spark_cluster.spark_cluster: Still creating... [3m40s elapsed]\u001b[0m\u001b[0m\n",
      "\u001b[0m\u001b[1mazurerm_hdinsight_spark_cluster.spark_cluster: Still creating... [3m50s elapsed]\u001b[0m\u001b[0m\n",
      "\u001b[0m\u001b[1mazurerm_hdinsight_spark_cluster.spark_cluster: Still creating... [4m0s elapsed]\u001b[0m\u001b[0m\n",
      "\u001b[0m\u001b[1mazurerm_hdinsight_spark_cluster.spark_cluster: Still creating... [4m10s elapsed]\u001b[0m\u001b[0m\n",
      "\u001b[0m\u001b[1mazurerm_hdinsight_spark_cluster.spark_cluster: Still creating... [4m20s elapsed]\u001b[0m\u001b[0m\n",
      "\u001b[0m\u001b[1mazurerm_hdinsight_spark_cluster.spark_cluster: Still creating... [4m30s elapsed]\u001b[0m\u001b[0m\n",
      "\u001b[0m\u001b[1mazurerm_hdinsight_spark_cluster.spark_cluster: Still creating... [4m40s elapsed]\u001b[0m\u001b[0m\n",
      "\u001b[0m\u001b[1mazurerm_hdinsight_spark_cluster.spark_cluster: Still creating... [4m50s elapsed]\u001b[0m\u001b[0m\n",
      "\u001b[0m\u001b[1mazurerm_hdinsight_spark_cluster.spark_cluster: Still creating... [5m0s elapsed]\u001b[0m\u001b[0m\n",
      "\u001b[0m\u001b[1mazurerm_hdinsight_spark_cluster.spark_cluster: Still creating... [5m10s elapsed]\u001b[0m\u001b[0m\n",
      "\u001b[0m\u001b[1mazurerm_hdinsight_spark_cluster.spark_cluster: Still creating... [5m20s elapsed]\u001b[0m\u001b[0m\n",
      "\u001b[0m\u001b[1mazurerm_hdinsight_spark_cluster.spark_cluster: Still creating... [5m30s elapsed]\u001b[0m\u001b[0m\n",
      "\u001b[0m\u001b[1mazurerm_hdinsight_spark_cluster.spark_cluster: Still creating... [5m40s elapsed]\u001b[0m\u001b[0m\n",
      "\u001b[0m\u001b[1mazurerm_hdinsight_spark_cluster.spark_cluster: Still creating... [5m50s elapsed]\u001b[0m\u001b[0m\n",
      "\u001b[0m\u001b[1mazurerm_hdinsight_spark_cluster.spark_cluster: Still creating... [6m0s elapsed]\u001b[0m\u001b[0m\n",
      "\u001b[0m\u001b[1mazurerm_hdinsight_spark_cluster.spark_cluster: Still creating... [6m10s elapsed]\u001b[0m\u001b[0m\n",
      "\u001b[0m\u001b[1mazurerm_hdinsight_spark_cluster.spark_cluster: Still creating... [6m20s elapsed]\u001b[0m\u001b[0m\n",
      "\u001b[0m\u001b[1mazurerm_hdinsight_spark_cluster.spark_cluster: Still creating... [6m30s elapsed]\u001b[0m\u001b[0m\n"
     ]
    },
    {
     "name": "stdout",
     "output_type": "stream",
     "text": [
      "\u001b[0m\u001b[1mazurerm_hdinsight_spark_cluster.spark_cluster: Still creating... [6m40s elapsed]\u001b[0m\u001b[0m\n",
      "\u001b[0m\u001b[1mazurerm_hdinsight_spark_cluster.spark_cluster: Still creating... [6m50s elapsed]\u001b[0m\u001b[0m\n",
      "\u001b[0m\u001b[1mazurerm_hdinsight_spark_cluster.spark_cluster: Still creating... [7m0s elapsed]\u001b[0m\u001b[0m\n",
      "\u001b[0m\u001b[1mazurerm_hdinsight_spark_cluster.spark_cluster: Still creating... [7m10s elapsed]\u001b[0m\u001b[0m\n",
      "\u001b[0m\u001b[1mazurerm_hdinsight_spark_cluster.spark_cluster: Still creating... [7m20s elapsed]\u001b[0m\u001b[0m\n",
      "\u001b[0m\u001b[1mazurerm_hdinsight_spark_cluster.spark_cluster: Still creating... [7m30s elapsed]\u001b[0m\u001b[0m\n",
      "\u001b[0m\u001b[1mazurerm_hdinsight_spark_cluster.spark_cluster: Still creating... [7m40s elapsed]\u001b[0m\u001b[0m\n",
      "\u001b[0m\u001b[1mazurerm_hdinsight_spark_cluster.spark_cluster: Still creating... [7m50s elapsed]\u001b[0m\u001b[0m\n",
      "\u001b[0m\u001b[1mazurerm_hdinsight_spark_cluster.spark_cluster: Still creating... [8m0s elapsed]\u001b[0m\u001b[0m\n",
      "\u001b[0m\u001b[1mazurerm_hdinsight_spark_cluster.spark_cluster: Still creating... [8m10s elapsed]\u001b[0m\u001b[0m\n",
      "\u001b[0m\u001b[1mazurerm_hdinsight_spark_cluster.spark_cluster: Still creating... [8m20s elapsed]\u001b[0m\u001b[0m\n",
      "\u001b[0m\u001b[1mazurerm_hdinsight_spark_cluster.spark_cluster: Still creating... [8m30s elapsed]\u001b[0m\u001b[0m\n",
      "\u001b[0m\u001b[1mazurerm_hdinsight_spark_cluster.spark_cluster: Still creating... [8m40s elapsed]\u001b[0m\u001b[0m\n",
      "\u001b[0m\u001b[1mazurerm_hdinsight_spark_cluster.spark_cluster: Still creating... [8m50s elapsed]\u001b[0m\u001b[0m\n",
      "\u001b[0m\u001b[1mazurerm_hdinsight_spark_cluster.spark_cluster: Still creating... [9m0s elapsed]\u001b[0m\u001b[0m\n",
      "\u001b[0m\u001b[1mazurerm_hdinsight_spark_cluster.spark_cluster: Still creating... [9m10s elapsed]\u001b[0m\u001b[0m\n",
      "\u001b[0m\u001b[1mazurerm_hdinsight_spark_cluster.spark_cluster: Still creating... [9m20s elapsed]\u001b[0m\u001b[0m\n",
      "\u001b[0m\u001b[1mazurerm_hdinsight_spark_cluster.spark_cluster: Still creating... [9m30s elapsed]\u001b[0m\u001b[0m\n",
      "\u001b[0m\u001b[1mazurerm_hdinsight_spark_cluster.spark_cluster: Still creating... [9m40s elapsed]\u001b[0m\u001b[0m\n",
      "\u001b[0m\u001b[1mazurerm_hdinsight_spark_cluster.spark_cluster: Still creating... [9m50s elapsed]\u001b[0m\u001b[0m\n",
      "\u001b[0m\u001b[1mazurerm_hdinsight_spark_cluster.spark_cluster: Still creating... [10m0s elapsed]\u001b[0m\u001b[0m\n",
      "\u001b[0m\u001b[1mazurerm_hdinsight_spark_cluster.spark_cluster: Still creating... [10m10s elapsed]\u001b[0m\u001b[0m\n",
      "\u001b[0m\u001b[1mazurerm_hdinsight_spark_cluster.spark_cluster: Still creating... [10m20s elapsed]\u001b[0m\u001b[0m\n",
      "\u001b[0m\u001b[1mazurerm_hdinsight_spark_cluster.spark_cluster: Still creating... [10m30s elapsed]\u001b[0m\u001b[0m\n",
      "\u001b[0m\u001b[1mazurerm_hdinsight_spark_cluster.spark_cluster: Still creating... [10m40s elapsed]\u001b[0m\u001b[0m\n",
      "\u001b[0m\u001b[1mazurerm_hdinsight_spark_cluster.spark_cluster: Still creating... [10m50s elapsed]\u001b[0m\u001b[0m\n",
      "\u001b[0m\u001b[1mazurerm_hdinsight_spark_cluster.spark_cluster: Still creating... [11m0s elapsed]\u001b[0m\u001b[0m\n",
      "\u001b[0m\u001b[1mazurerm_hdinsight_spark_cluster.spark_cluster: Still creating... [11m10s elapsed]\u001b[0m\u001b[0m\n",
      "\u001b[0m\u001b[1mazurerm_hdinsight_spark_cluster.spark_cluster: Still creating... [11m20s elapsed]\u001b[0m\u001b[0m\n",
      "\u001b[0m\u001b[1mazurerm_hdinsight_spark_cluster.spark_cluster: Still creating... [11m30s elapsed]\u001b[0m\u001b[0m\n",
      "\u001b[0m\u001b[1mazurerm_hdinsight_spark_cluster.spark_cluster: Still creating... [11m40s elapsed]\u001b[0m\u001b[0m\n",
      "\u001b[0m\u001b[1mazurerm_hdinsight_spark_cluster.spark_cluster: Still creating... [11m50s elapsed]\u001b[0m\u001b[0m\n",
      "\u001b[0m\u001b[1mazurerm_hdinsight_spark_cluster.spark_cluster: Still creating... [12m0s elapsed]\u001b[0m\u001b[0m\n",
      "\u001b[0m\u001b[1mazurerm_hdinsight_spark_cluster.spark_cluster: Still creating... [12m10s elapsed]\u001b[0m\u001b[0m\n",
      "\u001b[0m\u001b[1mazurerm_hdinsight_spark_cluster.spark_cluster: Still creating... [12m20s elapsed]\u001b[0m\u001b[0m\n",
      "\u001b[0m\u001b[1mazurerm_hdinsight_spark_cluster.spark_cluster: Still creating... [12m30s elapsed]\u001b[0m\u001b[0m\n",
      "\u001b[0m\u001b[1mazurerm_hdinsight_spark_cluster.spark_cluster: Still creating... [12m40s elapsed]\u001b[0m\u001b[0m\n",
      "\u001b[0m\u001b[1mazurerm_hdinsight_spark_cluster.spark_cluster: Still creating... [12m50s elapsed]\u001b[0m\u001b[0m\n",
      "\u001b[0m\u001b[1mazurerm_hdinsight_spark_cluster.spark_cluster: Still creating... [13m0s elapsed]\u001b[0m\u001b[0m\n",
      "\u001b[0m\u001b[1mazurerm_hdinsight_spark_cluster.spark_cluster: Still creating... [13m10s elapsed]\u001b[0m\u001b[0m\n",
      "\u001b[0m\u001b[1mazurerm_hdinsight_spark_cluster.spark_cluster: Still creating... [13m20s elapsed]\u001b[0m\u001b[0m\n",
      "\u001b[0m\u001b[1mazurerm_hdinsight_spark_cluster.spark_cluster: Still creating... [13m31s elapsed]\u001b[0m\u001b[0m\n",
      "\u001b[0m\u001b[1mazurerm_hdinsight_spark_cluster.spark_cluster: Still creating... [13m41s elapsed]\u001b[0m\u001b[0m\n",
      "\u001b[0m\u001b[1mazurerm_hdinsight_spark_cluster.spark_cluster: Still creating... [13m51s elapsed]\u001b[0m\u001b[0m\n",
      "\u001b[0m\u001b[1mazurerm_hdinsight_spark_cluster.spark_cluster: Still creating... [14m1s elapsed]\u001b[0m\u001b[0m\n",
      "\u001b[0m\u001b[1mazurerm_hdinsight_spark_cluster.spark_cluster: Still creating... [14m11s elapsed]\u001b[0m\u001b[0m\n",
      "\u001b[0m\u001b[1mazurerm_hdinsight_spark_cluster.spark_cluster: Still creating... [14m21s elapsed]\u001b[0m\u001b[0m\n",
      "\u001b[0m\u001b[1mazurerm_hdinsight_spark_cluster.spark_cluster: Still creating... [14m31s elapsed]\u001b[0m\u001b[0m\n",
      "\u001b[0m\u001b[1mazurerm_hdinsight_spark_cluster.spark_cluster: Still creating... [14m41s elapsed]\u001b[0m\u001b[0m\n",
      "\u001b[0m\u001b[1mazurerm_hdinsight_spark_cluster.spark_cluster: Still creating... [14m51s elapsed]\u001b[0m\u001b[0m\n",
      "\u001b[0m\u001b[1mazurerm_hdinsight_spark_cluster.spark_cluster: Still creating... [15m1s elapsed]\u001b[0m\u001b[0m\n",
      "\u001b[0m\u001b[1mazurerm_hdinsight_spark_cluster.spark_cluster: Still creating... [15m11s elapsed]\u001b[0m\u001b[0m\n",
      "\u001b[0m\u001b[1mazurerm_hdinsight_spark_cluster.spark_cluster: Still creating... [15m21s elapsed]\u001b[0m\u001b[0m\n",
      "\u001b[0m\u001b[1mazurerm_hdinsight_spark_cluster.spark_cluster: Still creating... [15m31s elapsed]\u001b[0m\u001b[0m\n",
      "\u001b[0m\u001b[1mazurerm_hdinsight_spark_cluster.spark_cluster: Still creating... [15m41s elapsed]\u001b[0m\u001b[0m\n",
      "\u001b[0m\u001b[1mazurerm_hdinsight_spark_cluster.spark_cluster: Still creating... [15m51s elapsed]\u001b[0m\u001b[0m\n",
      "\u001b[0m\u001b[1mazurerm_hdinsight_spark_cluster.spark_cluster: Still creating... [16m1s elapsed]\u001b[0m\u001b[0m\n",
      "\u001b[0m\u001b[1mazurerm_hdinsight_spark_cluster.spark_cluster: Still creating... [16m11s elapsed]\u001b[0m\u001b[0m\n",
      "\u001b[0m\u001b[1mazurerm_hdinsight_spark_cluster.spark_cluster: Still creating... [16m21s elapsed]\u001b[0m\u001b[0m\n",
      "\u001b[0m\u001b[1mazurerm_hdinsight_spark_cluster.spark_cluster: Still creating... [16m31s elapsed]\u001b[0m\u001b[0m\n",
      "\u001b[0m\u001b[1mazurerm_hdinsight_spark_cluster.spark_cluster: Still creating... [16m41s elapsed]\u001b[0m\u001b[0m\n",
      "\u001b[0m\u001b[1mazurerm_hdinsight_spark_cluster.spark_cluster: Still creating... [16m51s elapsed]\u001b[0m\u001b[0m\n",
      "\u001b[0m\u001b[1mazurerm_hdinsight_spark_cluster.spark_cluster: Still creating... [17m1s elapsed]\u001b[0m\u001b[0m\n",
      "\u001b[0m\u001b[1mazurerm_hdinsight_spark_cluster.spark_cluster: Still creating... [17m11s elapsed]\u001b[0m\u001b[0m\n",
      "\u001b[0m\u001b[1mazurerm_hdinsight_spark_cluster.spark_cluster: Still creating... [17m21s elapsed]\u001b[0m\u001b[0m\n",
      "\u001b[0m\u001b[1mazurerm_hdinsight_spark_cluster.spark_cluster: Still creating... [17m31s elapsed]\u001b[0m\u001b[0m\n",
      "\u001b[0m\u001b[1mazurerm_hdinsight_spark_cluster.spark_cluster: Still creating... [17m41s elapsed]\u001b[0m\u001b[0m\n",
      "\u001b[0m\u001b[1mazurerm_hdinsight_spark_cluster.spark_cluster: Still creating... [17m51s elapsed]\u001b[0m\u001b[0m\n",
      "\u001b[0m\u001b[1mazurerm_hdinsight_spark_cluster.spark_cluster: Still creating... [18m1s elapsed]\u001b[0m\u001b[0m\n",
      "\u001b[0m\u001b[1mazurerm_hdinsight_spark_cluster.spark_cluster: Still creating... [18m11s elapsed]\u001b[0m\u001b[0m\n",
      "\u001b[0m\u001b[1mazurerm_hdinsight_spark_cluster.spark_cluster: Still creating... [18m21s elapsed]\u001b[0m\u001b[0m\n",
      "\u001b[0m\u001b[1mazurerm_hdinsight_spark_cluster.spark_cluster: Still creating... [18m31s elapsed]\u001b[0m\u001b[0m\n",
      "\u001b[0m\u001b[1mazurerm_hdinsight_spark_cluster.spark_cluster: Still creating... [18m41s elapsed]\u001b[0m\u001b[0m\n",
      "\u001b[0m\u001b[1mazurerm_hdinsight_spark_cluster.spark_cluster: Still creating... [18m51s elapsed]\u001b[0m\u001b[0m\n",
      "\u001b[0m\u001b[1mazurerm_hdinsight_spark_cluster.spark_cluster: Still creating... [19m1s elapsed]\u001b[0m\u001b[0m\n",
      "\u001b[0m\u001b[1mazurerm_hdinsight_spark_cluster.spark_cluster: Still creating... [19m11s elapsed]\u001b[0m\u001b[0m\n",
      "\u001b[0m\u001b[1mazurerm_hdinsight_spark_cluster.spark_cluster: Still creating... [19m21s elapsed]\u001b[0m\u001b[0m\n",
      "\u001b[0m\u001b[1mazurerm_hdinsight_spark_cluster.spark_cluster: Still creating... [19m31s elapsed]\u001b[0m\u001b[0m\n",
      "\u001b[0m\u001b[1mazurerm_hdinsight_spark_cluster.spark_cluster: Still creating... [19m41s elapsed]\u001b[0m\u001b[0m\n",
      "\u001b[0m\u001b[1mazurerm_hdinsight_spark_cluster.spark_cluster: Creation complete after 19m44s [id=/subscriptions/3750c13c-7871-4812-9fd5-94fb4ce86681/resourceGroups/lsml-resource-group/providers/Microsoft.HDInsight/clusters/hw2-sparkcluster]\u001b[0m\u001b[0m\n",
      "\u001b[0m\u001b[1m\u001b[32m\n",
      "Apply complete! Resources: 1 added, 0 changed, 0 destroyed.\u001b[0m\n",
      "\u001b[0m\u001b[1m\u001b[32m\n",
      "Outputs:\n",
      "\n",
      "https_endpoint = \"hw2-sparkcluster.azurehdinsight.net\"\n",
      "jupyter_endpoint = \"hw2-sparkcluster.azurehdinsight.net/jupyter\"\n",
      "ssh_endpoint = \"hw2-sparkcluster-ssh.azurehdinsight.net\"\u001b[0m\n"
     ]
    }
   ],
   "source": [
    "! echo \"yes\" | terraform apply"
   ]
  },
  {
   "cell_type": "markdown",
   "metadata": {},
   "source": [
    "# Часть 1"
   ]
  },
  {
   "cell_type": "code",
   "execution_count": null,
   "metadata": {
    "collapsed": true
   },
   "outputs": [],
   "source": [
    "from pyspark.sql import SparkSession, Row\n",
    "sp = spark.sparkContext\n",
    "se = SparkSession(sc)\n",
    "\n",
    "\n",
    "%%configure -f\n",
    "{\n",
    "    \"executorMemory\": \"20000M\", \n",
    "    \"executorCores\": 6, \n",
    "    \"numExecutors\": 5,\n",
    "    \"conf\": {\n",
    "        \"spark.sql.autoBroadcastJoinThreshold\": -1\n",
    "    }\n",
    "}"
   ]
  },
  {
   "cell_type": "markdown",
   "metadata": {},
   "source": [
    "Перезаливаю в паркет, как я понимаю, с ним легче работать spark.sql"
   ]
  },
  {
   "cell_type": "code",
   "execution_count": null,
   "metadata": {
    "collapsed": true
   },
   "outputs": [],
   "source": [
    "AdsInfo = spark.read.option(\"delimiter\", \"\\t\").csv('/data/AdsInfo.tsv', header=True)\n",
    "SearchInfo = spark.read.option(\"delimiter\", \"\\t\").csv('/data/SearchInfo.tsv', header=True)\n",
    "UserInfo = spark.read.option(\"delimiter\", \"\\t\").csv('/data/UserInfo.tsv', header=True)\n",
    "trainSearchStream = spark.read.option(\"delimiter\", \"\\t\").csv('/data/trainSearchStream.tsv', header=True)\n",
    "testSearchStream = spark.read.option(\"delimiter\", \"\\t\").csv('/data/testSearchStream.tsv', header=True)\n",
    "\n",
    "AdsInfo.write.parquet(\"/data/parquet/AdsInfo.parquet\")\n",
    "SearchInfo.write.parquet(\"/data/parquet/SearchInfo.parquet\")\n",
    "UserInfo.write.parquet(\"/data/parquet/UserInfo.parquet\")\n",
    "trainSearchStream.write.parquet(\"/data/parquet/trainSearchStream.parquet\")\n",
    "testSearchStream.write.parquet(\"/data/parquet/testSearchStream.parquet\")\n",
    "\n",
    "AdsInfo = spark.read.parquet(\"/data/parquet/AdsInfo.parquet\")\n",
    "SearchInfo = spark.read.parquet(\"/data/parquet/SearchInfo.parquet\")\n",
    "UserInfo = spark.read.parquet(\"/data/parquet/UserInfo.parquet\")\n",
    "trainSearchStream = spark.read.parquet(\"/data/parquet/trainSearchStream.parquet\")\n",
    "testSearchStream = spark.read.parquet(\"/data/parquet/testSearchStream.parquet\")\n",
    "\n",
    "AdsInfo.registerTempTable('AdsInfo')\n",
    "trainSearchStream.registerTempTable('trainStream')\n",
    "testSearchStream.registerTempTable('testStream')\n",
    "SearchInfo.registerTempTable('SearchInfo')\n",
    "UserInfo.registerTempTable('UserInfo')"
   ]
  },
  {
   "cell_type": "markdown",
   "metadata": {},
   "source": [
    "Возьму функцию для обработки search- и add- params из прошлого дз + функцию для обработки строк для wv и зарегистрирую их как udf"
   ]
  },
  {
   "cell_type": "code",
   "execution_count": null,
   "metadata": {
    "collapsed": true
   },
   "outputs": [],
   "source": [
    "import ast\n",
    "import re\n",
    "\n",
    "\n",
    "def get_params(params):\n",
    "    params = params[1:-1]\n",
    "    params = re.sub(r\"\\{[^{}]*\\}\", \"0\", params)\n",
    "    params = re.sub(r\"\\[[^\\[\\]]*\\]\", \"0\", params)\n",
    "    param_dict = ast.literal_eval(\"{\" + params + \"}\")\n",
    "    values = map(str, param_dict.values())\n",
    "    full_params = (' '.join(values)).lower()\n",
    "    word_pattern = re.compile(r\"[а-яё0-9a-z_]+\")\n",
    "    words = [match.group(0) for match in re.finditer(word_pattern, full_params)]\n",
    "    return ' '.join(words)\n",
    "    \n",
    "    \n",
    "def process_str(x):\n",
    "    word_pattern = re.compile(r\"[а-яё0-9a-z_]+\")\n",
    "    x = x.lower()  \n",
    "    words = [match.group(0) for match in re.finditer(word_pattern, x)]\n",
    "    x = ' '.join(words)\n",
    "    return x\n",
    "\n",
    "spark.udf.register(\"get_params\", get_params, \"string\")\n",
    "spark.udf.register(\"process_str\", process_str, \"string\")"
   ]
  },
  {
   "cell_type": "markdown",
   "metadata": {},
   "source": [
    "Признаки я выбрала из трех Info таблиц SearchInfo, AdsInfo, UserInfo:\n",
    "\n",
    "Дата поиска SearchDate — взяла как категориальный признак, так как в данных всего 16 последовательных дней\n",
    "\n",
    "Текст запроса SearchQuery — использовала как bag of words\n",
    "\n",
    "Залогинен ли пользватель IsUserLoggedOn — может быть важно для контекстной рекламы\n",
    "\n",
    "Фильтры поиска SearchParams — значения из словаря с фильтрами поиска (использую как bag of words)\n",
    "\n",
    "Фильтры объявления AdParams — значения из словаря с фильтрами рекламы (использую как bag of words)\n",
    "\n",
    "Цена товара Price — единственный численный признак\n",
    "\n",
    "Название объявления Title — опять bag of words\n",
    "\n",
    "ID девайса, с которого зашел пользователь UserDeviceID — возможно с айфонов или нокиа по-разному кликают (возможно нет)\n",
    "\n",
    "Семейство браузеров UserAgentFamilyID — на всякий случай"
   ]
  },
  {
   "cell_type": "markdown",
   "metadata": {},
   "source": [
    "Выбираю нужные признаки из каждой таблицы:"
   ]
  },
  {
   "cell_type": "code",
   "execution_count": null,
   "metadata": {
    "collapsed": true
   },
   "outputs": [],
   "source": [
    "spark.sql(\n",
    "    \"\"\"\n",
    "    select \n",
    "        SearchID, \n",
    "        UserID,\n",
    "        date(SearchDate) as SearchDate, \n",
    "        process_str(nvl(SearchQuery, \"\")) as SearchQuery, \n",
    "        IsUserLoggedOn, \n",
    "        get_params(nvl(SearchParams, \"{}\")) as SearchParams\n",
    "    from SearchInfo\n",
    "    \"\"\"\n",
    ").registerTempTable('si')\n",
    "\n",
    "spark.sql(\n",
    "    \"\"\"\n",
    "    cache lazy table si\n",
    "    \"\"\"\n",
    ")"
   ]
  },
  {
   "cell_type": "code",
   "execution_count": null,
   "metadata": {
    "collapsed": true
   },
   "outputs": [],
   "source": [
    "spark.sql(\n",
    "    \"\"\"\n",
    "    select\n",
    "        AdID, \n",
    "        get_params(nvl(Params, \"{}\")) as AdParams, \n",
    "        nvl(Price, 0) as Price, \n",
    "        process_str(nvl(Title, \"\")) as Title \n",
    "    from AdsInfo\n",
    "    where IsContext = 1\n",
    "    \"\"\"\n",
    ").registerTempTable('ai')\n",
    "\n",
    "spark.sql(\n",
    "    \"\"\"\n",
    "    cache lazy table ai\n",
    "    \"\"\"\n",
    ")"
   ]
  },
  {
   "cell_type": "code",
   "execution_count": null,
   "metadata": {
    "collapsed": true
   },
   "outputs": [],
   "source": [
    "spark.sql(\n",
    "    \"\"\"\n",
    "    select\n",
    "        UserID,\n",
    "        UserAgentFamilyID,\n",
    "        UserDeviceID \n",
    "    from UserInfo\n",
    "    \"\"\"\n",
    ").registerTempTable('ui')\n",
    "\n",
    "spark.sql(\n",
    "    \"\"\"\n",
    "    cache lazy table ui\n",
    "    \"\"\"\n",
    ")"
   ]
  },
  {
   "cell_type": "markdown",
   "metadata": {},
   "source": [
    "И собираю из них тестовую и обучающую выборки (количество объектов сохранилось)"
   ]
  },
  {
   "cell_type": "code",
   "execution_count": null,
   "metadata": {
    "collapsed": true
   },
   "outputs": [],
   "source": [
    "spark.sql(\"\"\"\n",
    "    with search_user as (\n",
    "        with search_train as ( \n",
    "            select ts.SearchID, ts.AdID, nvl(ts.Position, \"\") as Position, ts.IsClick, si.*\n",
    "            from \n",
    "                trainStream as ts left join si on ts.SearchID = si.SearchID\n",
    "            where ts.IsClick is not null\n",
    "        )\n",
    "        select *\n",
    "        from \n",
    "            search_train as st left join ui on st.UserID = ui.UserID\n",
    "    )\n",
    "    select \n",
    "        (IsClick * 2 - 1) as IsClick,\n",
    "        AdParams, Price, Title as Title,\n",
    "        SearchParams, SearchDate, SearchQuery as SearchQuery, IsUserLoggedOn,\n",
    "        UserAgentFamilyID, UserDeviceID, \n",
    "        Position\n",
    "    from \n",
    "        search_user AS su left join ai on su.AdID = ai.AdID\n",
    "\"\"\").registerTempTable('train_set')"
   ]
  },
  {
   "cell_type": "code",
   "execution_count": null,
   "metadata": {
    "collapsed": true
   },
   "outputs": [],
   "source": [
    "spark.sql(\n",
    "    \"\"\"\n",
    "    select *\n",
    "    from train_set\n",
    "    \"\"\"\n",
    ").write.parquet(\"/data/parquet/TrainSet.parquet\")"
   ]
  },
  {
   "cell_type": "code",
   "execution_count": null,
   "metadata": {
    "collapsed": true
   },
   "outputs": [],
   "source": [
    "spark.sql(\"\"\"\n",
    "    with search_user as (\n",
    "        with search_test as ( \n",
    "            select ts.SearchID, ts.AdID, nvl(ts.Position, \"\") as Position, si.*\n",
    "            from \n",
    "                testStream as ts left join si on ts.SearchID = si.SearchID\n",
    "            where ts.HistCTR is not null\n",
    "        )\n",
    "        select *\n",
    "        from \n",
    "            search_test as st left join ui on st.UserID = ui.UserID\n",
    "    )\n",
    "    select \n",
    "        AdParams, Price, Title as Title,\n",
    "        SearchParams, SearchDate, SearchQuery as SearchQuery, IsUserLoggedOn,\n",
    "        UserAgentFamilyID, UserDeviceID, \n",
    "        Position\n",
    "    from \n",
    "        search_user AS su left join ai on su.AdID = ai.AdID\n",
    "\"\"\").registerTempTable('test_set')"
   ]
  },
  {
   "cell_type": "code",
   "execution_count": null,
   "metadata": {
    "collapsed": true
   },
   "outputs": [],
   "source": [
    "spark.sql(\n",
    "    \"\"\"\n",
    "    select *\n",
    "    from test_set\n",
    "    \"\"\"\n",
    ").write.parquet(\"/data/parquet/TestSet.parquet\")"
   ]
  },
  {
   "cell_type": "markdown",
   "metadata": {},
   "source": [
    "Заодно записываю ID-шки для теста в отдельный файл, чтобы потом приклеить к ним предсказания"
   ]
  },
  {
   "cell_type": "code",
   "execution_count": null,
   "metadata": {
    "collapsed": true
   },
   "outputs": [],
   "source": [
    "spark.sql(\n",
    "    \"\"\"\n",
    "    select ID\n",
    "    from testStream\n",
    "    where HistCTR is not null\n",
    "    \"\"\"\n",
    ").write.csv('/data/ids')"
   ]
  },
  {
   "cell_type": "code",
   "execution_count": null,
   "metadata": {
    "collapsed": true
   },
   "outputs": [],
   "source": [
    "%%bash\n",
    "\n",
    "hdfs dfs -getmerge /data/ids/part* /var/lib/jupyter/vw_data/ids.csv"
   ]
  },
  {
   "cell_type": "markdown",
   "metadata": {},
   "source": [
    "## Перевод в vw"
   ]
  },
  {
   "cell_type": "markdown",
   "metadata": {},
   "source": [
    "Тут я очень хотела использовать импортансы, так как классы очень несбалансированные, и добавила их в виде total_num_examples / total_examples_of_this_class. Там получились числа вида 1 и 160 из-за чего модель сильно переобучилась на класс 1 и дала предсказание порядочно хуже константого. Думаю, можно было бы поэксперементировать с менее радикальными значениями импортанса, но я уже не могу."
   ]
  },
  {
   "cell_type": "code",
   "execution_count": null,
   "metadata": {
    "collapsed": true
   },
   "outputs": [],
   "source": [
    "from functools import partial\n",
    "\n",
    "def convert_to_vw(data, split='train'):\n",
    "    \n",
    "    target = data['IsClick'] if split == 'train' else -1\n",
    "    importance = pos_imp if target == 1 else neg_imp\n",
    "    \n",
    "    title = data['Title']\n",
    "    params = data['AdParams']\n",
    "    price = data['Price'] if data['Price'] is not None else 0\n",
    "    \n",
    "    s_query = data['SearchQuery']\n",
    "    s_date = data['SearchDate']\n",
    "    s_params = data['SearchParams']\n",
    "    is_logged = data['IsUserLoggedOn']\n",
    "    \n",
    "    UserAgentFamilyID = data['UserAgentFamilyID']\n",
    "    UserDeviceID = data['UserDeviceID']\n",
    "    \n",
    "    position = data['Position']\n",
    "    \n",
    "    template = \"{target} |t {title} |a {params} |p price:{price} |q {s_query} |s {s_params} |d {s_date} \\\n",
    "                |l logged:{is_logged} |f {UserAgentFamilyID} |d {UserDeviceID} |p {position}\"\n",
    "    \n",
    "    return template.format(\n",
    "        target=target,\n",
    "        title=title,\n",
    "        params=params,\n",
    "        price=price,\n",
    "        s_query=s_query,\n",
    "        s_date=s_date,\n",
    "        s_params=s_params,\n",
    "        is_logged=is_logged,\n",
    "        UserAgentFamilyID=UserAgentFamilyID,\n",
    "        UserDeviceID=UserDeviceID,\n",
    "        position=position,\n",
    "\n",
    "    )\n",
    "\n",
    "test_convert_to_vw = partial(convert_to_vw, split='test')"
   ]
  },
  {
   "cell_type": "code",
   "execution_count": null,
   "metadata": {
    "collapsed": true
   },
   "outputs": [],
   "source": [
    "df = spark.read.parquet(\"/data/parquet/TrainSet.parquet\")\n",
    "test_df = spark.read.parquet(\"/data/parquet/TestSet.parquet\")\n",
    "# тут я хотела сделать stratified split, не уверена, какой способ лучше\n",
    "train_df = df.sampleBy(\"IsClick\", fractions={-1: 0.8, 1: 0.8}, seed=1992)\n",
    "val_df = df.subtract(train_df)\n",
    "\n",
    "train_df.rdd.map(convert_to_vw).saveAsTextFile('/data/train.vw')\n",
    "val_df.rdd.map(convert_to_vw).saveAsTextFile('/data/val.vw')\n",
    "test_df.rdd.map(test_convert_to_vw).saveAsTextFile('/data/test.vw')"
   ]
  },
  {
   "cell_type": "code",
   "execution_count": null,
   "metadata": {
    "collapsed": true
   },
   "outputs": [],
   "source": [
    "%%bash\n",
    "\n",
    "rm -r /var/lib/jupyter/vw_data\n",
    "mkdir /var/lib/jupyter/vw_data\n",
    "hdfs dfs -getmerge /data/train.vw/part* /var/lib/jupyter/vw_data/train.vw\n",
    "hdfs dfs -getmerge /data/val.vw/part* /var/lib/jupyter/vw_data/val.vw\n",
    "hdfs dfs -getmerge /data/test.vw/part* /var/lib/jupyter/vw_data/test.vw"
   ]
  },
  {
   "cell_type": "markdown",
   "metadata": {},
   "source": [
    "# Часть 2"
   ]
  },
  {
   "cell_type": "code",
   "execution_count": null,
   "metadata": {
    "collapsed": true
   },
   "outputs": [],
   "source": [
    "%%writefile get_metrics.py\n",
    "from sklearn.metrics import accuracy_score, precision_score, recall_score, roc_auc_score, average_precision_score\n",
    "import numpy as np \n",
    "import sys\n",
    "\n",
    "def read_from_vw(vw_record):\n",
    "    return float(vw_record.split('|')[0].strip())\n",
    "    \n",
    "    \n",
    "def compute_metrics(predictions_filename, labels_filename):\n",
    "    with open(predictions_filename, 'r') as f:\n",
    "        probs = np.array([float(value) for value in f.readlines()])\n",
    "        \n",
    "    with open(labels_filename, 'r') as f:\n",
    "        labels = np.array([read_from_vw(value) for value in f.readlines()])\n",
    "        \n",
    "    preds = np.round(probs) * 2 - 1 # из вероятностей в [-1, 1]\n",
    "    \n",
    "    template = \"accuracy: {acc}, precision: {prec}, recall: {rec}, roc auc: {roc_auc}, pr auc: {pr_auc}\"\n",
    "    print(template.format(\n",
    "        acc=accuracy_score(labels, preds),\n",
    "        prec=precision_score(labels, preds),\n",
    "        rec=recall_score(labels, preds),\n",
    "        roc_auc=roc_auc_score(labels, probs),\n",
    "        pr_auc=average_precision_score(labels, probs)\n",
    "    ))\n",
    "\n",
    "preds, labels = argv[1], argv[2]\n",
    "compute_metrics(preds, labels)"
   ]
  },
  {
   "cell_type": "code",
   "execution_count": null,
   "metadata": {
    "collapsed": true
   },
   "outputs": [],
   "source": [
    "%%bash \n",
    "\n",
    "wget --user azureuser http://finance.yendor.com/ML/VW/Binaries/vw-8.20190624 -O /usr/bin/vw\n",
    "chmod +x /usr/bin/vw\n",
    "\n",
    "vw /var/lib/jupyter/vw_data/train.vw \\\n",
    "    --final_regressor model.bin \\\n",
    "    --loss_function logistic \\\n",
    "    --learning_rate 0.5 \\\n",
    "    --bit_precision 22 \\\n",
    "    --passes 5 \\\n",
    "    --cache -k \\\n",
    "    --ngram s2 t2 a2\n",
    "    \n",
    "vw /var/lib/jupyter/vw_data/val.vw \\\n",
    "    --predictions val_preds.txt \\\n",
    "    --initial_regressor model.bin \\\n",
    "    --testonly \\\n",
    "    --link logistic\n",
    "    --loss_function logistic\n",
    "    \n",
    "vw /var/lib/jupyter/vw_data/test.vw \\\n",
    "    --predictions test_preds.txt \\\n",
    "    --initial_regressor model.bin \\\n",
    "    --testonly \\\n",
    "    --link logistic\n",
    "    --loss_function logistic\n",
    "    \n",
    "#считаем метрики    \n",
    "python get_metrics.py val_preds.txt /var/lib/jupyter/vw_data/val.vw\n",
    "\n",
    "#записываем в общий файл и засылаем на кеггл\n",
    "echo ID,IsCLick > kaggle_answers.csv\n",
    "sudo sh -c \"paste -d \",\" /var/lib/jupyter/vw_data/ids.csv test_preds.txt >> kaggle_answers.csv\"\n",
    "kaggle competitions submit -f kaggle_answers.csv -m 'first try' -c avito-context-ad-clicks"
   ]
  },
  {
   "cell_type": "markdown",
   "metadata": {},
   "source": [
    "accuracy: 0.925, precision: 0.176, recall: 2.72e-05, roc auc: 0.71, pr auc: 0.16"
   ]
  },
  {
   "attachments": {
    "image.png": {
     "image/png": "[encoded data removed]"
    }
   },
   "cell_type": "markdown",
   "metadata": {},
   "source": [
    "![image.png](attachment:image.png)"
   ]
  }
 ],
 "metadata": {
  "kernelspec": {
   "display_name": "Python 3",
   "language": "python",
   "name": "python3"
  },
  "language_info": {
   "codemirror_mode": {
    "name": "ipython",
    "version": 3
   },
   "file_extension": ".py",
   "mimetype": "text/x-python",
   "name": "python",
   "nbconvert_exporter": "python",
   "pygments_lexer": "ipython3",
   "version": "3.6.12"
  }
 },
 "nbformat": 4,
 "nbformat_minor": 2
}
